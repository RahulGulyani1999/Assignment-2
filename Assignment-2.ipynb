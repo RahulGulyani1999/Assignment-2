{
 "cells": [
  {
   "cell_type": "code",
   "execution_count": 3,
   "id": "cd638373-d08b-4497-9193-1203bb574ea4",
   "metadata": {},
   "outputs": [],
   "source": [
    "# Question-5 - Answer"
   ]
  },
  {
   "cell_type": "code",
   "execution_count": 4,
   "id": "9ae0e906-0c49-4919-9a86-597b283c8651",
   "metadata": {},
   "outputs": [],
   "source": [
    "my_list=[1,2,3,4,5]"
   ]
  },
  {
   "cell_type": "code",
   "execution_count": 5,
   "id": "39526e5d-53c9-4695-ab9b-ae8f5a8be7f5",
   "metadata": {},
   "outputs": [
    {
     "data": {
      "text/plain": [
       "[2, 3]"
      ]
     },
     "execution_count": 5,
     "metadata": {},
     "output_type": "execute_result"
    }
   ],
   "source": [
    "my_list[1:3]"
   ]
  },
  {
   "cell_type": "code",
   "execution_count": 6,
   "id": "f1b475be-f2ed-4c50-8b48-a52cbcd19547",
   "metadata": {},
   "outputs": [],
   "source": [
    "# Question-7 - Answer "
   ]
  },
  {
   "cell_type": "code",
   "execution_count": 7,
   "id": "0fc53e1f-c898-459a-a36e-880fadafca82",
   "metadata": {},
   "outputs": [],
   "source": [
    "age=25"
   ]
  },
  {
   "cell_type": "code",
   "execution_count": 9,
   "id": "f89c5d19-ccbd-4c5d-b41e-79731e148e85",
   "metadata": {},
   "outputs": [],
   "source": [
    "# Here, above age shows a variable and by the help of (=) assignment operator we assigned it a integer value that is 25"
   ]
  },
  {
   "cell_type": "code",
   "execution_count": 10,
   "id": "eb2f66b3-e835-435c-9948-fd01c75a245f",
   "metadata": {},
   "outputs": [],
   "source": [
    "# Question -8 - Answer"
   ]
  },
  {
   "cell_type": "code",
   "execution_count": 11,
   "id": "252d8031-39ce-4778-8892-ffa11392cf81",
   "metadata": {},
   "outputs": [],
   "source": [
    "price=9.99"
   ]
  },
  {
   "cell_type": "code",
   "execution_count": 12,
   "id": "0ee0a1a1-651d-45a7-bc7e-d10aa565a03f",
   "metadata": {},
   "outputs": [
    {
     "data": {
      "text/plain": [
       "float"
      ]
     },
     "execution_count": 12,
     "metadata": {},
     "output_type": "execute_result"
    }
   ],
   "source": [
    "type(price)"
   ]
  },
  {
   "cell_type": "code",
   "execution_count": 13,
   "id": "27039a24-6500-4162-81f7-d22104432f01",
   "metadata": {},
   "outputs": [],
   "source": [
    "# price would be assigned a value of 9.99 by using assignment operator and the variable price has floating number as it's data type."
   ]
  },
  {
   "cell_type": "code",
   "execution_count": 14,
   "id": "084eca44-ba48-457f-aa40-37a6042c731b",
   "metadata": {},
   "outputs": [],
   "source": [
    "#Question - 9- Answer"
   ]
  },
  {
   "cell_type": "code",
   "execution_count": 15,
   "id": "aa4e0c9a-a621-4ef5-9083-03a333564857",
   "metadata": {},
   "outputs": [],
   "source": [
    "name='Rahul Gulyani'"
   ]
  },
  {
   "cell_type": "code",
   "execution_count": 16,
   "id": "5aeff918-ea0d-4112-b58e-233f1b2c76ce",
   "metadata": {},
   "outputs": [
    {
     "name": "stdout",
     "output_type": "stream",
     "text": [
      "Rahul Gulyani\n"
     ]
    }
   ],
   "source": [
    "print(name)"
   ]
  },
  {
   "cell_type": "code",
   "execution_count": 17,
   "id": "6c01ccb2-29d9-4b98-8c6c-ca2197125b0a",
   "metadata": {},
   "outputs": [],
   "source": [
    "# Question-10- Answer"
   ]
  },
  {
   "cell_type": "code",
   "execution_count": 18,
   "id": "3e2ba388-2974-4193-8223-400733c2a46c",
   "metadata": {},
   "outputs": [],
   "source": [
    "a=\"Hello,World!\""
   ]
  },
  {
   "cell_type": "code",
   "execution_count": 21,
   "id": "85a5b1d3-eeff-407a-bf17-ac90ecd7937d",
   "metadata": {},
   "outputs": [
    {
     "data": {
      "text/plain": [
       "'World'"
      ]
     },
     "execution_count": 21,
     "metadata": {},
     "output_type": "execute_result"
    }
   ],
   "source": [
    "a[6:11]"
   ]
  },
  {
   "cell_type": "code",
   "execution_count": 25,
   "id": "8abe33a1-842f-43a1-8872-59108f84263d",
   "metadata": {},
   "outputs": [],
   "source": [
    "#Question- 11 - Answer"
   ]
  },
  {
   "cell_type": "code",
   "execution_count": 27,
   "id": "6deb660b-58c9-46ed-aaed-69135c929342",
   "metadata": {},
   "outputs": [],
   "source": [
    "is_student=True or False"
   ]
  },
  {
   "cell_type": "code",
   "execution_count": 28,
   "id": "91ce506d-bbf1-43ef-a92a-9a94a6d6f2a5",
   "metadata": {},
   "outputs": [],
   "source": [
    "# Question-6 - Answer"
   ]
  },
  {
   "cell_type": "code",
   "execution_count": 29,
   "id": "81f6e2ab-84f1-4131-a1dd-2f80c0d49446",
   "metadata": {},
   "outputs": [
    {
     "data": {
      "text/plain": [
       "'Complex no. is sum of real no. and imaginary no. in mathematics and the same concept is valid in python programming \\nlanguage the minor diffrence is only that in mathematics for imaginary no. we use i(iota) while in python programming \\nlanguage we use only j for writting imaginary part of complex no. for a better understanding i am showcasing that below by \\nthe help of an example.'"
      ]
     },
     "execution_count": 29,
     "metadata": {},
     "output_type": "execute_result"
    }
   ],
   "source": [
    "'''Complex no. is sum of real no. and imaginary no. in mathematics and the same concept is valid in python programming \n",
    "language the minor diffrence is only that in mathematics for imaginary no. we use i(iota) while in python programming \n",
    "language we use only j for writting imaginary part of complex no. for a better understanding i am showcasing that below by \n",
    "the help of an example.'''\n"
   ]
  },
  {
   "cell_type": "code",
   "execution_count": 30,
   "id": "153836dd-59c2-45db-bef7-88d210260d18",
   "metadata": {},
   "outputs": [],
   "source": [
    "a=4+4j"
   ]
  },
  {
   "cell_type": "code",
   "execution_count": 31,
   "id": "f1da0800-fcd5-4df3-9cc4-a65eab62cb21",
   "metadata": {},
   "outputs": [
    {
     "data": {
      "text/plain": [
       "complex"
      ]
     },
     "execution_count": 31,
     "metadata": {},
     "output_type": "execute_result"
    }
   ],
   "source": [
    "type(a)"
   ]
  },
  {
   "cell_type": "code",
   "execution_count": 35,
   "id": "71af197b-8be5-4ff7-933e-547eeb27db22",
   "metadata": {},
   "outputs": [
    {
     "data": {
      "text/plain": [
       "4.0"
      ]
     },
     "execution_count": 35,
     "metadata": {},
     "output_type": "execute_result"
    }
   ],
   "source": [
    "a.real"
   ]
  },
  {
   "cell_type": "code",
   "execution_count": 36,
   "id": "f291c2fa-35af-40f2-893a-ed6bc394925a",
   "metadata": {},
   "outputs": [
    {
     "data": {
      "text/plain": [
       "4.0"
      ]
     },
     "execution_count": 36,
     "metadata": {},
     "output_type": "execute_result"
    }
   ],
   "source": [
    "a.imag"
   ]
  },
  {
   "cell_type": "code",
   "execution_count": 37,
   "id": "0ef5bfa9-ff8c-418b-8f67-0a31d3edf7a7",
   "metadata": {},
   "outputs": [],
   "source": [
    "#Question-4- Answer"
   ]
  },
  {
   "cell_type": "code",
   "execution_count": 38,
   "id": "3c9fd01e-418e-456a-b10d-ed35621cb17b",
   "metadata": {},
   "outputs": [
    {
     "data": {
      "text/plain": [
       "'There are two main ways to run a Python script from the command prompt: – using the Python interpreter – using the py launcher Using the Python interpreter is the most common way to run a Python script. To do this, simply type “python” followed by the path to your script, like this: python /path/to/your/script.py If your script is in the current directory, you can just type “python script.py”. The py launcher is a new feature in Python 3.3 that allows you to run Python scripts without having to type the “python” command each time. To use it, simply type “py” followed by the path to your script: py /path/to/your/script.py If your script is in the current directory, you can just type “py script.py”. Both of these methods have their advantages and disadvantages. Using the Python interpreter is more common and easier to set up, but using the py launcher can be more convenient once it’s set up.'"
      ]
     },
     "execution_count": 38,
     "metadata": {},
     "output_type": "execute_result"
    }
   ],
   "source": [
    "'''There are two main ways to run a Python script from the command prompt: – using the Python interpreter – using the py launcher Using the Python interpreter is the most common way to run a Python script. To do this, simply type “python” followed by the path to your script, like this: python /path/to/your/script.py If your script is in the current directory, you can just type “python script.py”. The py launcher is a new feature in Python 3.3 that allows you to run Python scripts without having to type the “python” command each time. To use it, simply type “py” followed by the path to your script: py /path/to/your/script.py If your script is in the current directory, you can just type “py script.py”. Both of these methods have their advantages and disadvantages. Using the Python interpreter is more common and easier to set up, but using the py launcher can be more convenient once it’s set up.'''"
   ]
  },
  {
   "cell_type": "code",
   "execution_count": 39,
   "id": "39d6818d-7a7e-42d3-90f3-d85d2344ebf9",
   "metadata": {},
   "outputs": [],
   "source": [
    "# Question-3- Answer"
   ]
  },
  {
   "cell_type": "code",
   "execution_count": 40,
   "id": "9630eced-107c-41ba-8786-0d344085fdba",
   "metadata": {},
   "outputs": [
    {
     "data": {
      "text/plain": [
       "'we can easily convert one type of data into another type in python as python has a lot of in bulit functions for doing so\\ni am writting the functions below one by one.'"
      ]
     },
     "execution_count": 40,
     "metadata": {},
     "output_type": "execute_result"
    }
   ],
   "source": [
    "'''we can easily convert one type of data into another type in python as python has a lot of in bulit functions for doing so\n",
    "i am writting the functions below one by one.'''"
   ]
  },
  {
   "cell_type": "code",
   "execution_count": 43,
   "id": "89ff5550-bb4d-4b7d-aa96-1c875f4cbd6a",
   "metadata": {},
   "outputs": [
    {
     "data": {
      "text/plain": [
       "0"
      ]
     },
     "execution_count": 43,
     "metadata": {},
     "output_type": "execute_result"
    }
   ],
   "source": [
    "int()"
   ]
  },
  {
   "cell_type": "code",
   "execution_count": 45,
   "id": "85972314-6232-4e13-9fac-5cdb079c5d26",
   "metadata": {},
   "outputs": [
    {
     "data": {
      "text/plain": [
       "'Convert a number or string to an integer, or return 0 if no arguments\\nare given.  If x is a number, return x.__int__().  For floating point\\nnumbers, this truncates towards zero.'"
      ]
     },
     "execution_count": 45,
     "metadata": {},
     "output_type": "execute_result"
    }
   ],
   "source": [
    "'''Convert a number or string to an integer, or return 0 if no arguments\n",
    "are given.  If x is a number, return x.__int__().  For floating point\n",
    "numbers, this truncates towards zero.'''\n"
   ]
  },
  {
   "cell_type": "code",
   "execution_count": 46,
   "id": "5a3db45f-a076-4824-9adc-fd58b322322c",
   "metadata": {},
   "outputs": [
    {
     "data": {
      "text/plain": [
       "''"
      ]
     },
     "execution_count": 46,
     "metadata": {},
     "output_type": "execute_result"
    }
   ],
   "source": [
    "str"
   ]
  },
  {
   "cell_type": "code",
   "execution_count": 48,
   "id": "574b5940-95c5-4366-918e-fdfdba281fcc",
   "metadata": {},
   "outputs": [
    {
     "data": {
      "text/plain": [
       "'Create a new string object from the given object. If encoding or\\nerrors is specified, then the object must expose a data buffer\\nthat will be decoded using the given encoding and error handler.\\nOtherwise, returns the result of object.__str__() (if defined)\\nor repr(object).'"
      ]
     },
     "execution_count": 48,
     "metadata": {},
     "output_type": "execute_result"
    }
   ],
   "source": [
    "'''Create a new string object from the given object. If encoding or\n",
    "errors is specified, then the object must expose a data buffer\n",
    "that will be decoded using the given encoding and error handler.\n",
    "Otherwise, returns the result of object.__str__() (if defined)\n",
    "or repr(object).'''"
   ]
  },
  {
   "cell_type": "code",
   "execution_count": 49,
   "id": "ba45279f-500e-4f24-9c8b-7852339aff0d",
   "metadata": {},
   "outputs": [
    {
     "data": {
      "text/plain": [
       "0.0"
      ]
     },
     "execution_count": 49,
     "metadata": {},
     "output_type": "execute_result"
    }
   ],
   "source": [
    "float()"
   ]
  },
  {
   "cell_type": "code",
   "execution_count": 50,
   "id": "6414d4ba-16b8-466b-be91-26f67b1f4da9",
   "metadata": {},
   "outputs": [],
   "source": [
    "#Convert a string or number to a floating point number, if possible.\n"
   ]
  },
  {
   "cell_type": "code",
   "execution_count": 51,
   "id": "a3231d0b-ccb0-47d4-93e9-09c19aa648f6",
   "metadata": {},
   "outputs": [
    {
     "data": {
      "text/plain": [
       "False"
      ]
     },
     "execution_count": 51,
     "metadata": {},
     "output_type": "execute_result"
    }
   ],
   "source": [
    "bool()"
   ]
  },
  {
   "cell_type": "code",
   "execution_count": null,
   "id": "52c957c6-2eb3-4456-9602-3a09a5da7bb4",
   "metadata": {},
   "outputs": [],
   "source": [
    "#Returns True when the argument x is true, False otherwise.\n",
    "The builtins True and False are the only two instances of the class bool.\n",
    "The class bool is a subclass of the class int, and cannot be subclassed.\n"
   ]
  },
  {
   "cell_type": "code",
   "execution_count": 53,
   "id": "805d6770-62ee-400b-8f2e-527494c1649f",
   "metadata": {},
   "outputs": [
    {
     "data": {
      "text/plain": [
       "(5+8j)"
      ]
     },
     "execution_count": 53,
     "metadata": {},
     "output_type": "execute_result"
    }
   ],
   "source": [
    "complex(5,8)"
   ]
  },
  {
   "cell_type": "code",
   "execution_count": null,
   "id": "800204b7-b860-49b8-8c20-6522f0666bd8",
   "metadata": {},
   "outputs": [],
   "source": [
    "#Create a complex number from a real part and an optional imaginary part.\n",
    "\n",
    "This is equivalent to (real + imag*1j) where imag defaults to 0.\n"
   ]
  },
  {
   "cell_type": "code",
   "execution_count": 54,
   "id": "cd99ee21-2b23-4908-a69e-721a404cf20a",
   "metadata": {},
   "outputs": [],
   "source": [
    "# Question-2- Answer"
   ]
  },
  {
   "cell_type": "code",
   "execution_count": 55,
   "id": "2394b9b2-3e69-4a0c-9e3b-c0d85a24fe01",
   "metadata": {},
   "outputs": [
    {
     "data": {
      "text/plain": [
       "'Variables are containers for storing data values\\nPython has no command for declaring a variable.\\n\\nA variable is created the moment you first assign a value to it.\\n\\nVariables do not need to be declared with any particular type, and can even change type after they have been set.\\nIf you want to specify the data type of a variable, this can be done with casting.\\n\\nYou can get the data type of a variable with the type() function.\\n\\nString variables can be declared either by using single or double quotes:\\n\\nVariable names are case-sensitive.'"
      ]
     },
     "execution_count": 55,
     "metadata": {},
     "output_type": "execute_result"
    }
   ],
   "source": [
    "'''Variables are containers for storing data values\n",
    "Python has no command for declaring a variable.\n",
    "\n",
    "A variable is created the moment you first assign a value to it.\n",
    "\n",
    "Variables do not need to be declared with any particular type, and can even change type after they have been set.\n",
    "If you want to specify the data type of a variable, this can be done with casting.\n",
    "\n",
    "You can get the data type of a variable with the type() function.\n",
    "\n",
    "String variables can be declared either by using single or double quotes:\n",
    "\n",
    "Variable names are case-sensitive.'''\n",
    "\n",
    "\n",
    "\n"
   ]
  },
  {
   "cell_type": "code",
   "execution_count": 56,
   "id": "3ed55962-cebd-487f-99a3-466501d5ad0c",
   "metadata": {},
   "outputs": [],
   "source": [
    "# Question-1- Answer"
   ]
  },
  {
   "cell_type": "code",
   "execution_count": null,
   "id": "54460ac3-5d71-4b43-9765-48b9236f8aac",
   "metadata": {},
   "outputs": [],
   "source": [
    "Comments can be used to explain Python code.\n",
    "\n",
    "Comments can be used to make the code more readable.\n",
    "\n",
    "Comments can be used to prevent execution when testing code.\n",
    "Comments starts with a #, and Python will ignore them:\n",
    "Comments can be placed at the end of a line, and Python will ignore the rest of the line:\n",
    "    A comment does not have to be text that explains the code, it can also be used to prevent Python from executing code:\n",
    "\n",
    "Python does not really have a syntax for multiline comments.\n",
    "\n",
    "To add a multiline comment you could insert a # for each line\n",
    "\n",
    "\n",
    "\n"
   ]
  }
 ],
 "metadata": {
  "kernelspec": {
   "display_name": "Python 3 (ipykernel)",
   "language": "python",
   "name": "python3"
  },
  "language_info": {
   "codemirror_mode": {
    "name": "ipython",
    "version": 3
   },
   "file_extension": ".py",
   "mimetype": "text/x-python",
   "name": "python",
   "nbconvert_exporter": "python",
   "pygments_lexer": "ipython3",
   "version": "3.10.8"
  }
 },
 "nbformat": 4,
 "nbformat_minor": 5
}
